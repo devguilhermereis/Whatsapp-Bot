{
  "nbformat": 4,
  "nbformat_minor": 0,
  "metadata": {
    "colab": {
      "name": "Estruturas de dados e controle",
      "provenance": [],
      "collapsed_sections": [],
      "authorship_tag": "ABX9TyOgrBkCZAXGFb019AQwm3y+",
      "include_colab_link": true
    },
    "kernelspec": {
      "name": "python3",
      "display_name": "Python 3"
    },
    "language_info": {
      "name": "python"
    }
  },
  "cells": [
    {
      "cell_type": "markdown",
      "metadata": {
        "id": "view-in-github",
        "colab_type": "text"
      },
      "source": [
        "<a href=\"https://colab.research.google.com/github/guilhermekgl/Whatsapp-Bot/blob/main/Estruturas_de_dados_e_controle.ipynb\" target=\"_parent\"><img src=\"https://colab.research.google.com/assets/colab-badge.svg\" alt=\"Open In Colab\"/></a>"
      ]
    },
    {
      "cell_type": "markdown",
      "source": [
        "Estruturas condicionais:\n",
        "\n",
        "1.   if: SE\n",
        "2.   elif: SE NÃO, SE\n",
        "3.   else: SE NÃO"
      ],
      "metadata": {
        "id": "sZ7owBqahBII"
      }
    },
    {
      "cell_type": "code",
      "execution_count": null,
      "metadata": {
        "colab": {
          "base_uri": "https://localhost:8080/"
        },
        "id": "z23QHnLoTCT6",
        "outputId": "cf2db8c9-5a7d-497e-ba99-3c9b74665291"
      },
      "outputs": [
        {
          "output_type": "stream",
          "name": "stdout",
          "text": [
            "Tem 18 anos\n"
          ]
        }
      ],
      "source": [
        "idade = 18\n",
        "\n",
        "if idade < 18:\n",
        "    print(\"Menor de idade\")\n",
        "elif idade == 18:\n",
        "    print(\"Tem 18 anos\")\n",
        "else:\n",
        "  print(\"Maior de idade\")"
      ]
    },
    {
      "cell_type": "markdown",
      "source": [
        "Estrutura de repetição:\n",
        "\n",
        "Utilizamos loops para iterar sobre sequências ou sobre valores interáveis.\n",
        "\n",
        "1.   Loop for:\n",
        "\n",
        "for item in interavel:\n",
        "\n",
        "    //execução do loop\n",
        "\n",
        "\n",
        "2.   Loop While"
      ],
      "metadata": {
        "id": "wIOEGPvCiD14"
      }
    },
    {
      "cell_type": "code",
      "source": [
        "#Exemplo de Loop for 1 (iterando sobre uma string)\n",
        "\n",
        "nome = 'Geek University'\n",
        "lista = [1, 3, 5, 7, 9]\n",
        "numeros = range(1, 10)\n",
        "\n",
        "for letra in nome:\n",
        "    print(letra)    \n",
        "\n",
        "#Exemplo de Loop for 2 (iterando sobre uma lista)\n",
        "\n",
        "for numero in lista:\n",
        "    print(numero)\n",
        "\n",
        "#Exemplo de Loop for 3 (iterando sobre um range)\n",
        "\n",
        "for numero in range(1, 10):\n",
        "  print(numero)\n"
      ],
      "metadata": {
        "id": "9ueotT5hlwOQ"
      },
      "execution_count": null,
      "outputs": []
    }
  ]
}